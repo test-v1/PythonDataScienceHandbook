{
 "cells": [
  {
   "cell_type": "markdown",
   "id": "bf9611b0-d80b-46db-8f01-93d3ece44ba9",
   "metadata": {},
   "source": [
    "Bold header without empty line\n",
    "**Table 1.**\n",
    "|col1|col2|\n",
    "|---|---|\n",
    "|a|b|"
   ]
  },
  {
   "cell_type": "markdown",
   "id": "41fc3148-f1e6-4baa-b03c-c4c55096673d",
   "metadata": {},
   "source": [
    "Normal header without empty line\n",
    "Table 1\n",
    "|col1|col2|\n",
    "|---|---|\n",
    "|a|b|"
   ]
  },
  {
   "cell_type": "markdown",
   "id": "ecd8ed03-7854-4ede-9115-9efbc92dc9d2",
   "metadata": {},
   "source": [
    "Bold header with empty line\n",
    "**Table 1.**\n",
    "\n",
    "|col1|col2|\n",
    "|---|---|\n",
    "|a|b|"
   ]
  },
  {
   "cell_type": "code",
   "execution_count": null,
   "id": "84634040-96f5-4028-b6e1-a5269f9d4dbf",
   "metadata": {},
   "outputs": [],
   "source": []
  }
 ],
 "metadata": {
  "kernelspec": {
   "display_name": "Python 3 (ipykernel)",
   "language": "python",
   "name": "python3"
  },
  "language_info": {
   "codemirror_mode": {
    "name": "ipython",
    "version": 3
   },
   "file_extension": ".py",
   "mimetype": "text/x-python",
   "name": "python",
   "nbconvert_exporter": "python",
   "pygments_lexer": "ipython3",
   "version": "3.8.13"
  }
 },
 "nbformat": 4,
 "nbformat_minor": 5
}
