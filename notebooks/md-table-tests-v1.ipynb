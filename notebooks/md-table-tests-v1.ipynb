{
 "cells": [
  {
   "cell_type": "markdown",
   "id": "15f72c7d-3617-4638-a9eb-48784d1912ec",
   "metadata": {},
   "source": [
    "* Table below a bullet\n",
    "| Keystroke                         | Action                                    |\n",
    "|-----------------------------------|--------------------------------------------|\n",
    "| ``Ctrl-a-modified``               | Move v2 cursor to the beginning of the line|\n",
    "| ``Ctrl-e``                        | Move cursor to the end of the line         |\n",
    "* Another table below a bullet\n",
    "| Keystroke                     | Action                                     |\n",
    "|-------------------------------|--------------------------------------------|\n",
    "| ``Cmd-ab``                    | undo terminal screen                       |\n",
    "| ``Ctrl-c``                    | Interrupt current Python command           |\n",
    "| ``Ctrl-d``                    | Exit IPython session                       |"
   ]
  },
  {
   "cell_type": "markdown",
   "id": "bf9611b0-d80b-46db-8f01-93d3ece44ba9",
   "metadata": {},
   "source": [
    "Bold header without empty line\n",
    "**Table 1.**\n",
    "|col1|col2|new-col3|\n",
    "|---|---|---|\n",
    "|a-modififed|deleted|added|"
   ]
  },
  {
   "cell_type": "markdown",
   "id": "41fc3148-f1e6-4baa-b03c-c4c55096673d",
   "metadata": {},
   "source": [
    "Normal header without empty line(deleted)"
   ]
  },
  {
   "cell_type": "markdown",
   "id": "ecd8ed03-7854-4ede-9115-9efbc92dc9d2",
   "metadata": {},
   "source": [
    "Bold header with empty line\n",
    "**Table 1.**\n",
    "\n",
    "|col1|col2|\n",
    "|---|---|\n",
    "|a|b|\n",
    "\n",
    "**Table 2 added.**\n",
    "| Keystroke                         | Action                                     |\n",
    "|-----------------------------------|--------------------------------------------|\n",
    "| ``Ctrl-a-modified``               | Move v2 cursor to the beginning of the line|\n",
    "| ``Ctrl-e``                        | Move cursor to the end of the line         |\n",
    "| ``Ctrl-b`` or the left arrow key  | Move cursor back one character             |\n",
    "| ``Ctrl-f`` or the right arrow key | Move cursor forward one character          |\n"
   ]
  },
  {
   "cell_type": "markdown",
   "id": "e7349595-bb7a-4a5b-96db-639bfe89c002",
   "metadata": {},
   "source": [
    "| Command         |  Description                                                |\n",
    "|-----------------|-------------------------------------------------------------|\n",
    "| ``list``        | Show the current location in the file                       |\n",
    "| ``h(elp)``      | Show a list of commands, or find help on a specific command |\n",
    "| ``q(uit)``      | Quit the debugger and the program                           |\n",
    "| ``c(ontinue)``  | Quit the debugger, continue in the program                  |\n",
    "| ``n(ext)``      | Go to the next step of the program                          |\n",
    "| ``<enter>``     | Repeat the previous command                                 |\n",
    "| ``p(rint)``     | Print variables                                             |\n",
    "| ``s(tep)``      | Step into a subroutine                                      |\n",
    "| ``r(eturn)``    | Return out of a subroutine                                  |"
   ]
  },
  {
   "cell_type": "markdown",
   "id": "3d7f2171-0271-4432-a8d5-ca75fc4b3ce1",
   "metadata": {},
   "source": [
    "## Miscellaneous Shortcuts\n",
    "Finally, there are a few miscellaneous shortcuts that don't fit into any of the preceding categories, but are nevertheless useful to know:\n",
    "| Keystroke                     | Action                                     |\n",
    "|-------------------------------|--------------------------------------------|\n",
    "| ``Cmd-ab``                    | undo terminal screen                       |\n",
    "| ``Ctrl-c``                    | Interrupt current Python command           |\n",
    "| ``Ctrl-d``                    | Exit IPython session                       |\n",
    "\n",
    "The Ctrl-c in particular can be useful when you inadvertently start a very long-running job."
   ]
  },
  {
   "cell_type": "code",
   "execution_count": null,
   "id": "9489fa58-582c-4bd9-8e08-27402adcdd80",
   "metadata": {},
   "outputs": [],
   "source": []
  }
 ],
 "metadata": {
  "kernelspec": {
   "display_name": "Python 3 (ipykernel)",
   "language": "python",
   "name": "python3"
  },
  "language_info": {
   "codemirror_mode": {
    "name": "ipython",
    "version": 3
   },
   "file_extension": ".py",
   "mimetype": "text/x-python",
   "name": "python",
   "nbconvert_exporter": "python",
   "pygments_lexer": "ipython3",
   "version": "3.8.13"
  }
 },
 "nbformat": 4,
 "nbformat_minor": 5
}
