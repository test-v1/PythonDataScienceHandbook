{
 "cells": [
  {
   "cell_type": "markdown",
   "metadata": {},
   "source": [
    "<!--BOOK_INFORMATION-->\n",
    "<img align=\"left\" style=\"padding-right:10px;\" src=\"figures/PDSH-cover-small.png\">\n",
    "*This notebook contains an excerpt from the [Python Data Science Handbook](http://shop.oreilly.com/product/0636920034919.do) by Jake VanderPlas; the content is available [on GitHub](https://github.com/jakevdp/PythonDataScienceHandbook).*\n",
    "\n",
    "*The text is released under the [CC-BY-NC-ND license](https://creativecommons.org/licenses/by-nc-nd/3.0/us/legalcode), and code is released under the [MIT license](https://opensource.org/licenses/MIT). If you find this content useful, please consider supporting the work by [buying the book](http://shop.oreilly.com/product/0636920034919.do)!*"
   ]
  },
  {
   "cell_type": "markdown",
   "metadata": {},
   "source": [
    "<!--NAVIGATION-->\n",
    "< [Help and Documentation in IPython](01.01-Help-And-Documentation.ipynb) | [Contents](Index.ipynb) | [IPython Magic Commands](01.03-Magic-Commands.ipynb) >"
   ]
  },
  {
   "cell_type": "markdown",
   "metadata": {},
   "source": [
    "# Keyboard Shortcuts in the IPython Shell"
   ]
  },
  {
   "cell_type": "markdown",
   "metadata": {},
   "source": [
    "If you spend any amount of time on the computer, you've probably found a use for keyboard shortcuts in your workflow.\n",
    "Most familiar perhaps are the Cmd-C and Cmd-V (or Ctrl-C and Ctrl-V) for copying and pasting in a wide variety of programs and systems.\n",
    "Power-users tend to go even further: popular text editors like Emacs, Vim, and others provide users an incredible range of operations through intricate combinations of keystrokes.\n",
    "\n",
    "The IPython shell doesn't go this far, but does provide a number of keyboard shortcuts for fast navigation while typing commands.\n",
    "These shortcuts are not in fact provided by IPython itself, but through its dependency on the GNU Readline library: as such, some of the following shortcuts may differ depending on your system configuration.\n",
    "Also, while some of these shortcuts do work in the browser-based notebook, this section is primarily about shortcuts in the IPython shell.\n",
    "\n",
    "Once you get accustomed to these, they can be very useful for quickly performing certain commands without moving your hands from the \"home\" keyboard position.\n",
    "If you're an Emacs user or if you have experience with Linux-style shells, the following will be very familiar.\n",
    "We'll group these shortcuts into a few categories: *navigation shortcuts*, *text entry shortcuts*, *command history shortcuts*, and *miscellaneous shortcuts*."
   ]
  },
  {
   "cell_type": "markdown",
   "metadata": {},
   "source": [
    "## Navigation shortcuts\n",
    "\n",
    "While the use of the left and right arrow keys to move backward and forward in the line is quite obvious, there are other options that don't require moving your hands from the \"home\" keyboard position:\n",
    "\n",
    "| Keystroke                         | Action                                     |\n",
    "|-----------------------------------|--------------------------------------------|\n",
    "| ``Ctrl-a-modified``               | Move v2 cursor to the beginning of the line|\n",
    "| ``Ctrl-e``                        | Move cursor to the end of the line         |\n",
    "| ``Ctrl-b`` or the left arrow key  | Move cursor back one character             |\n",
    "| ``Ctrl-f`` or the right arrow key | Move cursor forward one character          |"
   ]
  },
  {
   "cell_type": "markdown",
   "metadata": {},
   "source": [
    "## Text Entry Shortcuts\n",
    "\n",
    "While everyone is familiar with using the Backspace key to delete the previous character, reaching for the key often requires some minor finger gymnastics, and it only deletes a single character at a time.\n",
    "In IPython there are several shortcuts for removing some portion of the text you're typing.\n",
    "The most immediately useful of these are the commands to delete entire lines of text.\n",
    "You'll know these have become second-nature if you find yourself using a combination of Ctrl-b and Ctrl-d instead of reaching for Backspace to delete the previous character!\n",
    "\n",
    "| Keystroke                     | Action                                           |\n",
    "|-------------------------------|--------------------------------------------------|\n",
    "| Cmd key                       | Go to next cell                                  |\n",
    "| Backspace key                 | Delete previous character in line                |\n",
    "| ``Ctrl-d``                    | Delete next character in line                    |\n",
    "| ``Ctrl-k``                    | Cut text from cursor to end of line              |\n",
    "| ``Ctrl-u``                    | Cut text from beginning of line to cursor        |\n",
    "| ``Ctrl-y``                    | Yank (i.e. paste) text that was previously cut   |\n",
    "| ``Ctrl-t``                    | Transpose (i.e., switch) previous two characters |"
   ]
  },
  {
   "cell_type": "markdown",
   "metadata": {},
   "source": [
    "## Command History Shortcuts\n",
    "\n",
    "Perhaps the most impactful shortcuts discussed here are the ones IPython provides for navigating the command history.\n",
    "This command history goes beyond your current IPython session: your entire command history is stored in a SQLite database in your IPython profile directory.\n",
    "The most straightforward way to access these is with the up and down arrow keys to step through the history, but other options exist as well:\n",
    "\n",
    "| Keystroke                           | Action                                     |\n",
    "|-------------------------------------|--------------------------------------------|\n",
    "| ``Ctrl-r``                          | Reverse-search through command history     |"
   ]
  },
  {
   "cell_type": "markdown",
   "metadata": {},
   "source": [
    "# 4\n",
    "\n",
    "While the use of the left and right arrow keys to move backward and forward in the line is quite obvious, there are other options that don't require moving your hands from the \"home\" keyboard position:\n",
    "\n",
    "| Keystroke                         | Action                                     |\n",
    "|-----------------------------------|--------------------------------------------|\n",
    "| ``Ctrl-a-modified``               | Move v2 cursor to the beginning of the line|\n",
    "| ``Ctrl-e``                        | Move cursor to the end of the line         |\n",
    "| ``Ctrl-b`` or the left arrow key  | Move cursor back one character             |\n",
    "| ``Ctrl-f`` or the right arrow key | Move cursor forward one character          |\n",
    "\n",
    "While the use of the left and right arrow keys to move backward and forward in the line is quite obvious, there are other options that don't require moving your hands from the \"home\" keyboard position:"
   ]
  },
  {
   "cell_type": "markdown",
   "metadata": {},
   "source": [
    "## Miscellaneous Shortcuts\n",
    "\n",
    "Finally, there are a few miscellaneous shortcuts that don't fit into any of the preceding categories, but are nevertheless useful to know:\n",
    "\n",
    "| Keystroke                     | Action                                     |\n",
    "|-------------------------------|--------------------------------------------|\n",
    "| ``Cmd-ab``                    | undo terminal screen                       |\n",
    "| ``Ctrl-c``                    | Interrupt current Python command           |\n",
    "| ``Ctrl-d``                    | Exit IPython session                       |\n",
    "\n",
    "The Ctrl-c in particular can be useful when you inadvertently start a very long-running job."
   ]
  },
  {
   "cell_type": "markdown",
   "metadata": {},
   "source": [
    "While some of the shortcuts discussed here may seem a bit tedious at first, they quickly become automatic with practice.\n",
    "Once you develop that muscle memory, I suspect you will even find yourself wishing they were available in other contexts."
   ]
  },
  {
   "cell_type": "markdown",
   "metadata": {},
   "source": [
    "<!--NAVIGATION-->\n",
    "< [Help and Documentation in IPython](01.01-Help-And-Documentation.ipynb) | [Contents](Index.ipynb) | [IPython Magic Commands](01.03-Magic-Commands.ipynb) >"
   ]
  }
 ],
 "metadata": {
  "anaconda-cloud": {},
  "kernelspec": {
   "display_name": "Python 3",
   "language": "python",
   "name": "python3"
  },
  "language_info": {
   "codemirror_mode": {
    "name": "ipython",
    "version": 3
   },
   "file_extension": ".py",
   "mimetype": "text/x-python",
   "name": "python",
   "nbconvert_exporter": "python",
   "pygments_lexer": "ipython3",
   "version": "3.6.8"
  }
 },
 "nbformat": 4,
 "nbformat_minor": 4
}
